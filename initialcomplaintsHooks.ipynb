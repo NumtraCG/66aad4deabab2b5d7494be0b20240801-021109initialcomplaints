{
 "cells": [
  {
   "cell_type": "markdown",
   "id": "c78e19e0",
   "metadata": {},
   "source": [
    "***EXTENSIONS FOR initialcomplaints PIPELINE YOU CAN EDIT THESE EXTENSIONS***"
   ]
  },
  {
   "cell_type": "markdown",
   "id": "7119f522",
   "metadata": {},
   "source": [
    "***EXTENSIONS FOR SOURCE STAGE***"
   ]
  },
  {
   "cell_type": "code",
   "execution_count": null,
   "id": "5fca4da2",
   "metadata": {},
   "outputs": [],
   "source": [
    "def sourcePreExecutionHook():\n",
    "\tprint('inside source pre execution hook')\n",
    "\n",
    "\n",
    "def sourcePostExecutionHook(data):\n",
    "\tprint('inside source post execution hook')\n",
    "\n",
    "\n"
   ]
  },
  {
   "cell_type": "markdown",
   "id": "4e850cde",
   "metadata": {},
   "source": [
    "***EXTENSIONS FOR TRANSFORMATION STAGE***"
   ]
  },
  {
   "cell_type": "code",
   "execution_count": null,
   "id": "c3b97e70",
   "metadata": {},
   "outputs": [],
   "source": [
    "def transformationPreExecutionHook():\n",
    "\tprint('inside transformation pre execution hook')\n",
    "\n",
    "\n",
    "def transformationPostExecutionHook(data):\n",
    "\tprint('inside transformation post execution hook')\n",
    "\n",
    "\n"
   ]
  },
  {
   "cell_type": "markdown",
   "id": "35abae43",
   "metadata": {},
   "source": [
    "***EXTENSIONS FOR ML STAGE***"
   ]
  },
  {
   "cell_type": "code",
   "execution_count": null,
   "id": "563b3e68",
   "metadata": {},
   "outputs": [],
   "source": [
    "def mlPreExecutionHook():\n",
    "\tprint('inside ml pre execution hook')\n",
    "\n",
    "\n",
    "def mlPostExecutionHook(data):\n",
    "\tprint('inside ml post execution hook')\n",
    "\n",
    "\n"
   ]
  }
 ],
 "metadata": {},
 "nbformat": 4,
 "nbformat_minor": 5
}
